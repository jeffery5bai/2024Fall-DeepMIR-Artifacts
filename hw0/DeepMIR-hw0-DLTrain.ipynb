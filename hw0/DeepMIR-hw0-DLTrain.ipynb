{
 "cells": [
  {
   "cell_type": "code",
   "execution_count": 1,
   "metadata": {},
   "outputs": [],
   "source": [
    "# setup\n",
    "import gc\n",
    "from typing import Optional\n",
    "from datetime import datetime\n",
    "from tqdm import tqdm\n",
    "import pandas as pd\n",
    "import numpy as np\n",
    "import matplotlib.pyplot as plt\n",
    "import seaborn as sns\n",
    "from sklearn.metrics import accuracy_score, top_k_accuracy_score, confusion_matrix\n",
    "import torchaudio\n",
    "import torch\n",
    "import torch.nn as nn\n",
    "from torch.utils.data import Dataset, DataLoader\n",
    "\n",
    "from model import ShortChunkCNN_Res\n",
    "\n",
    "# TODO: change the file path\n",
    "FILE_DIR = \"./nsynth-subtrain/audio\"\n",
    "LABEL_PATH = \"./nsynth-subtrain/examples.json\"\n",
    "VAL_FILE_DIR = \"./nsynth-valid/audio\"\n",
    "VAL_LABEL_PATH = \"./nsynth-valid/examples.json\"\n",
    "RANDOM_SEED = 0\n",
    "LABEL_NAMES = {0: \"bass\", 1: \"brass\", 2: \"flute\", 3: \"guitar\", 4: \"keyboard\", 5: \"mallet\", 6: \"organ\", 7: \"reed\", 8: \"string\", 9: \"synth_lead\", 10: \"vocal\"}\n"
   ]
  },
  {
   "cell_type": "code",
   "execution_count": 2,
   "metadata": {},
   "outputs": [
    {
     "name": "stdout",
     "output_type": "stream",
     "text": [
      "Index(['note', 'sample_rate', 'pitch', 'instrument_source',\n",
      "       'instrument_family_str', 'instrument_str', 'note_str', 'qualities_str',\n",
      "       'instrument_source_str', 'velocity', 'instrument_family', 'instrument',\n",
      "       'qualities'],\n",
      "      dtype='object')\n"
     ]
    },
    {
     "data": {
      "text/html": [
       "<div>\n",
       "<style scoped>\n",
       "    .dataframe tbody tr th:only-of-type {\n",
       "        vertical-align: middle;\n",
       "    }\n",
       "\n",
       "    .dataframe tbody tr th {\n",
       "        vertical-align: top;\n",
       "    }\n",
       "\n",
       "    .dataframe thead th {\n",
       "        text-align: right;\n",
       "    }\n",
       "</style>\n",
       "<table border=\"1\" class=\"dataframe\">\n",
       "  <thead>\n",
       "    <tr style=\"text-align: right;\">\n",
       "      <th></th>\n",
       "      <th>note</th>\n",
       "      <th>sample_rate</th>\n",
       "      <th>pitch</th>\n",
       "      <th>instrument_source</th>\n",
       "      <th>instrument_family_str</th>\n",
       "      <th>instrument_str</th>\n",
       "      <th>note_str</th>\n",
       "      <th>qualities_str</th>\n",
       "      <th>instrument_source_str</th>\n",
       "      <th>velocity</th>\n",
       "      <th>instrument_family</th>\n",
       "      <th>instrument</th>\n",
       "      <th>qualities</th>\n",
       "    </tr>\n",
       "  </thead>\n",
       "  <tbody>\n",
       "    <tr>\n",
       "      <th>bass_synthetic_022-108-127</th>\n",
       "      <td>89262</td>\n",
       "      <td>16000</td>\n",
       "      <td>108</td>\n",
       "      <td>2</td>\n",
       "      <td>bass</td>\n",
       "      <td>bass_synthetic_022</td>\n",
       "      <td>bass_synthetic_022-108-127</td>\n",
       "      <td>[bright, distortion]</td>\n",
       "      <td>synthetic</td>\n",
       "      <td>127</td>\n",
       "      <td>0</td>\n",
       "      <td>321</td>\n",
       "      <td>[1, 0, 1, 0, 0, 0, 0, 0, 0, 0]</td>\n",
       "    </tr>\n",
       "    <tr>\n",
       "      <th>bass_synthetic_050-108-075</th>\n",
       "      <td>272731</td>\n",
       "      <td>16000</td>\n",
       "      <td>108</td>\n",
       "      <td>2</td>\n",
       "      <td>bass</td>\n",
       "      <td>bass_synthetic_050</td>\n",
       "      <td>bass_synthetic_050-108-075</td>\n",
       "      <td>[distortion, nonlinear_env]</td>\n",
       "      <td>synthetic</td>\n",
       "      <td>75</td>\n",
       "      <td>0</td>\n",
       "      <td>540</td>\n",
       "      <td>[0, 0, 1, 0, 0, 0, 1, 0, 0, 0]</td>\n",
       "    </tr>\n",
       "    <tr>\n",
       "      <th>bass_synthetic_057-108-100</th>\n",
       "      <td>284902</td>\n",
       "      <td>16000</td>\n",
       "      <td>108</td>\n",
       "      <td>2</td>\n",
       "      <td>bass</td>\n",
       "      <td>bass_synthetic_057</td>\n",
       "      <td>bass_synthetic_057-108-100</td>\n",
       "      <td>[distortion, nonlinear_env]</td>\n",
       "      <td>synthetic</td>\n",
       "      <td>100</td>\n",
       "      <td>0</td>\n",
       "      <td>583</td>\n",
       "      <td>[0, 0, 1, 0, 0, 0, 1, 0, 0, 0]</td>\n",
       "    </tr>\n",
       "    <tr>\n",
       "      <th>bass_synthetic_017-108-050</th>\n",
       "      <td>37332</td>\n",
       "      <td>16000</td>\n",
       "      <td>108</td>\n",
       "      <td>2</td>\n",
       "      <td>bass</td>\n",
       "      <td>bass_synthetic_017</td>\n",
       "      <td>bass_synthetic_017-108-050</td>\n",
       "      <td>[long_release]</td>\n",
       "      <td>synthetic</td>\n",
       "      <td>50</td>\n",
       "      <td>0</td>\n",
       "      <td>249</td>\n",
       "      <td>[0, 0, 0, 0, 1, 0, 0, 0, 0, 0]</td>\n",
       "    </tr>\n",
       "    <tr>\n",
       "      <th>bass_synthetic_131-108-100</th>\n",
       "      <td>225176</td>\n",
       "      <td>16000</td>\n",
       "      <td>108</td>\n",
       "      <td>2</td>\n",
       "      <td>bass</td>\n",
       "      <td>bass_synthetic_131</td>\n",
       "      <td>bass_synthetic_131-108-100</td>\n",
       "      <td>[bright, distortion]</td>\n",
       "      <td>synthetic</td>\n",
       "      <td>100</td>\n",
       "      <td>0</td>\n",
       "      <td>909</td>\n",
       "      <td>[1, 0, 1, 0, 0, 0, 0, 0, 0, 0]</td>\n",
       "    </tr>\n",
       "  </tbody>\n",
       "</table>\n",
       "</div>"
      ],
      "text/plain": [
       "                              note  sample_rate  pitch  instrument_source  \\\n",
       "bass_synthetic_022-108-127   89262        16000    108                  2   \n",
       "bass_synthetic_050-108-075  272731        16000    108                  2   \n",
       "bass_synthetic_057-108-100  284902        16000    108                  2   \n",
       "bass_synthetic_017-108-050   37332        16000    108                  2   \n",
       "bass_synthetic_131-108-100  225176        16000    108                  2   \n",
       "\n",
       "                           instrument_family_str      instrument_str  \\\n",
       "bass_synthetic_022-108-127                  bass  bass_synthetic_022   \n",
       "bass_synthetic_050-108-075                  bass  bass_synthetic_050   \n",
       "bass_synthetic_057-108-100                  bass  bass_synthetic_057   \n",
       "bass_synthetic_017-108-050                  bass  bass_synthetic_017   \n",
       "bass_synthetic_131-108-100                  bass  bass_synthetic_131   \n",
       "\n",
       "                                              note_str  \\\n",
       "bass_synthetic_022-108-127  bass_synthetic_022-108-127   \n",
       "bass_synthetic_050-108-075  bass_synthetic_050-108-075   \n",
       "bass_synthetic_057-108-100  bass_synthetic_057-108-100   \n",
       "bass_synthetic_017-108-050  bass_synthetic_017-108-050   \n",
       "bass_synthetic_131-108-100  bass_synthetic_131-108-100   \n",
       "\n",
       "                                          qualities_str instrument_source_str  \\\n",
       "bass_synthetic_022-108-127         [bright, distortion]             synthetic   \n",
       "bass_synthetic_050-108-075  [distortion, nonlinear_env]             synthetic   \n",
       "bass_synthetic_057-108-100  [distortion, nonlinear_env]             synthetic   \n",
       "bass_synthetic_017-108-050               [long_release]             synthetic   \n",
       "bass_synthetic_131-108-100         [bright, distortion]             synthetic   \n",
       "\n",
       "                            velocity  instrument_family  instrument  \\\n",
       "bass_synthetic_022-108-127       127                  0         321   \n",
       "bass_synthetic_050-108-075        75                  0         540   \n",
       "bass_synthetic_057-108-100       100                  0         583   \n",
       "bass_synthetic_017-108-050        50                  0         249   \n",
       "bass_synthetic_131-108-100       100                  0         909   \n",
       "\n",
       "                                                 qualities  \n",
       "bass_synthetic_022-108-127  [1, 0, 1, 0, 0, 0, 0, 0, 0, 0]  \n",
       "bass_synthetic_050-108-075  [0, 0, 1, 0, 0, 0, 1, 0, 0, 0]  \n",
       "bass_synthetic_057-108-100  [0, 0, 1, 0, 0, 0, 1, 0, 0, 0]  \n",
       "bass_synthetic_017-108-050  [0, 0, 0, 0, 1, 0, 0, 0, 0, 0]  \n",
       "bass_synthetic_131-108-100  [1, 0, 1, 0, 0, 0, 0, 0, 0, 0]  "
      ]
     },
     "metadata": {},
     "output_type": "display_data"
    },
    {
     "name": "stdout",
     "output_type": "stream",
     "text": [
      "Index(['note_str', 'sample_rate', 'qualities_str', 'instrument_source',\n",
      "       'instrument_family_str', 'instrument_family', 'note',\n",
      "       'instrument_source_str', 'qualities', 'pitch', 'instrument_str',\n",
      "       'instrument', 'velocity'],\n",
      "      dtype='object')\n"
     ]
    }
   ],
   "source": [
    "# load file\n",
    "df = pd.read_json(LABEL_PATH, orient='index')\n",
    "print(df.columns)\n",
    "display(df.head())\n",
    "\n",
    "# load valid file\n",
    "val_df = pd.read_json(VAL_LABEL_PATH, orient='index')\n",
    "print(val_df.columns)\n"
   ]
  },
  {
   "cell_type": "markdown",
   "metadata": {},
   "source": [
    "## Task3: Deep Learning Model"
   ]
  },
  {
   "cell_type": "markdown",
   "metadata": {},
   "source": [
    "### Load data"
   ]
  },
  {
   "cell_type": "code",
   "execution_count": 3,
   "metadata": {},
   "outputs": [
    {
     "name": "stderr",
     "output_type": "stream",
     "text": [
      "100%|██████████| 48037/48037 [01:40<00:00, 478.51it/s] \n"
     ]
    },
    {
     "name": "stdout",
     "output_type": "stream",
     "text": [
      "(48037, 64000)\n"
     ]
    }
   ],
   "source": [
    "# load files\n",
    "wavs_list = []\n",
    "for filename in tqdm(df.index):\n",
    "    filepath = f\"{FILE_DIR}/{filename}.wav\"\n",
    "    wav, sr = torchaudio.load(filepath, normalize=True)\n",
    "    wavs_list.append(wav.numpy())\n",
    "\n",
    "wavs = np.concatenate(wavs_list, axis=0)\n",
    "del wavs_list\n",
    "gc.collect()\n",
    "\n",
    "print(wavs.shape)\n"
   ]
  },
  {
   "cell_type": "code",
   "execution_count": 4,
   "metadata": {},
   "outputs": [
    {
     "name": "stderr",
     "output_type": "stream",
     "text": [
      "100%|██████████| 12678/12678 [03:47<00:00, 55.84it/s]\n"
     ]
    },
    {
     "name": "stdout",
     "output_type": "stream",
     "text": [
      "(12678, 64000)\n"
     ]
    }
   ],
   "source": [
    "# load valid files\n",
    "val_wavs_list = []\n",
    "for filename in tqdm(val_df.index):\n",
    "    filepath = f\"{VAL_FILE_DIR}/{filename}.wav\"\n",
    "    wav, sr = torchaudio.load(filepath, normalize=True)\n",
    "    val_wavs_list.append(wav.numpy())\n",
    "\n",
    "val_wavs = np.concatenate(val_wavs_list, axis=0)\n",
    "del val_wavs_list\n",
    "gc.collect()\n",
    "\n",
    "print(val_wavs.shape)\n"
   ]
  },
  {
   "cell_type": "code",
   "execution_count": 5,
   "metadata": {},
   "outputs": [
    {
     "name": "stdout",
     "output_type": "stream",
     "text": [
      "Variable               Type            Data/Info\n",
      "------------------------------------------------\n",
      "DataLoader             type            <class 'torch.utils.data.dataloader.DataLoader'>\n",
      "Dataset                type            <class 'torch.utils.data.dataset.Dataset'>\n",
      "FILE_DIR               str             ./nsynth-subtrain/audio\n",
      "LABEL_NAMES            dict            n=11\n",
      "LABEL_PATH             str             ./nsynth-subtrain/examples.json\n",
      "Optional               _SpecialForm    typing.Optional\n",
      "RANDOM_SEED            int             0\n",
      "ShortChunkCNN_Res      type            <class 'model.ShortChunkCNN_Res'>\n",
      "VAL_FILE_DIR           str             ./nsynth-valid/audio\n",
      "VAL_LABEL_PATH         str             ./nsynth-valid/examples.json\n",
      "accuracy_score         function        <function accuracy_score at 0x7b9906393eb0>\n",
      "confusion_matrix       function        <function confusion_matrix at 0x7b99063fc040>\n",
      "datetime               type            <class 'datetime.datetime'>\n",
      "df                     DataFrame                                <...>[48037 rows x 13 columns]\n",
      "filename               str             keyboard_acoustic_004-044-127\n",
      "filepath               str             ./nsynth-valid/audio/keyb<...>_acoustic_004-044-127.wav\n",
      "gc                     module          <module 'gc' (built-in)>\n",
      "nn                     module          <module 'torch.nn' from '<...>es/torch/nn/__init__.py'>\n",
      "np                     module          <module 'numpy' from '/ho<...>kages/numpy/__init__.py'>\n",
      "pd                     module          <module 'pandas' from '/h<...>ages/pandas/__init__.py'>\n",
      "plt                    module          <module 'matplotlib.pyplo<...>es/matplotlib/pyplot.py'>\n",
      "sns                    module          <module 'seaborn' from '/<...>ges/seaborn/__init__.py'>\n",
      "sr                     int             16000\n",
      "top_k_accuracy_score   function        <function top_k_accuracy_score at 0x7b990587c310>\n",
      "torch                  module          <module 'torch' from '/ho<...>kages/torch/__init__.py'>\n",
      "torchaudio             module          <module 'torchaudio' from<...>/torchaudio/__init__.py'>\n",
      "tqdm                   type            <class 'tqdm.std.tqdm'>\n",
      "val_df                 DataFrame                                <...>[12678 rows x 13 columns]\n",
      "val_wavs               ndarray         12678x64000: 811392000 elems, type `float32`, 3245568000 bytes (3095.21484375 Mb)\n",
      "wav                    Tensor          tensor([[-0.0020, -0.0033<...>0000,  0.0000,  0.0000]])\n",
      "wavs                   ndarray         48037x64000: 3074368000 elems, type `float32`, 12297472000 bytes (11727.783203125 Mb)\n"
     ]
    }
   ],
   "source": [
    "%whos"
   ]
  },
  {
   "cell_type": "code",
   "execution_count": 6,
   "metadata": {},
   "outputs": [],
   "source": [
    "# DEVICE: GPU\n",
    "DEVICE = torch.device('cuda' if torch.cuda.is_available() else 'cpu')\n",
    "\n",
    "# Hyper-params\n",
    "EPOCHS = 10\n",
    "PATIENCE = 5\n",
    "BATCH_SIZE = 32  # 64\n",
    "LR = 1e-5  # 1e-5\n",
    "\n",
    "# for model\n",
    "N_CHANNELS = 128  # 256\n",
    "N_FFT = 2048\n",
    "HOP_LENGTH = 512  # 1024\n"
   ]
  },
  {
   "cell_type": "code",
   "execution_count": 7,
   "metadata": {},
   "outputs": [],
   "source": [
    "class MyDataset(Dataset):\n",
    "    def __init__(self, wavs: np.array, log: pd.DataFrame):\n",
    "        self.wavs = torch.tensor(wavs, dtype=torch.float32)\n",
    "        self.target = torch.tensor(log[\"instrument_family\"].values, dtype=torch.int64)\n",
    "        x_qual = np.array(log[\"qualities\"].apply(lambda x: np.array(x)).tolist())\n",
    "        x_npv = log[[\"note\",\t\"pitch\", \"velocity\"]].values\n",
    "        self.metadata = torch.tensor(np.hstack((x_qual, x_npv)), dtype=torch.float32)\n",
    "\n",
    "    def __len__(self):\n",
    "        return self.wavs.shape[0]\n",
    "    \n",
    "    def __getitem__(self, idx):\n",
    "        return self.wavs[idx], self.target[idx], self.metadata[idx]\n"
   ]
  },
  {
   "cell_type": "code",
   "execution_count": 8,
   "metadata": {},
   "outputs": [],
   "source": [
    "def save_checkpoint(model, path, verbose = False):\n",
    "    postfix = datetime.now().strftime(\"%m%d-%H-%M\")\n",
    "    if path is None:\n",
    "        path = f\"DL_ShortChunkCNN_{postfix}.pt\"\n",
    "    torch.save(model.state_dict(), path)\n",
    "    if verbose:\n",
    "        print(f\"model successfully saved to {path}\")"
   ]
  },
  {
   "cell_type": "markdown",
   "metadata": {},
   "source": [
    "### Train DL model (ShortChunkCNN_Res)"
   ]
  },
  {
   "cell_type": "code",
   "execution_count": 9,
   "metadata": {},
   "outputs": [],
   "source": [
    "def train(\n",
    "        train_wavs: np.array, \n",
    "        train_log: pd.DataFrame, \n",
    "        valid_wavs: np.array, \n",
    "        valid_log: pd.DataFrame,\n",
    "        with_meta: bool = False,\n",
    "        model_path: Optional[str] = None,\n",
    "        model_params: Optional[dict] = None, \n",
    "        verbose: bool = True\n",
    "    ):\n",
    "\n",
    "    # Training and Validation Record\n",
    "    train_loss_list = []\n",
    "    valid_loss_list = []\n",
    "\n",
    "    # Early Stopping\n",
    "    best_acc = 0\n",
    "    cnt = 0\n",
    "\n",
    "    # Training and Valid Dataset\n",
    "    print(\"Prepare dataloader...\")\n",
    "    train = MyDataset(train_wavs, train_log)\n",
    "    valid = MyDataset(valid_wavs, valid_log)\n",
    "    \n",
    "    # Training and Valid DataLoader\n",
    "    train_dataloader = DataLoader(train, batch_size=BATCH_SIZE, shuffle=True)\n",
    "    valid_dataloader = DataLoader(valid, batch_size=BATCH_SIZE, shuffle=False)\n",
    "\n",
    "    # Model    \n",
    "    model = ShortChunkCNN_Res(with_meta=with_meta, **model_params) if model_params else ShortChunkCNN_Res(with_meta=with_meta)\n",
    "\n",
    "    # Optimizer\n",
    "    loss_fn = nn.CrossEntropyLoss()\n",
    "    optimizer = torch.optim.Adam(model.parameters(), lr=LR)\n",
    "\n",
    "    # Training Start!!!\n",
    "    print(\"Training Start!!!\")\n",
    "    for epoch in tqdm(range(EPOCHS), disable=(not verbose)):\n",
    "\n",
    "        model.to(DEVICE)\n",
    "        model.train()\n",
    "\n",
    "        total_loss = 0\n",
    "        train_true = torch.tensor([])\n",
    "        train_pred = torch.tensor([])\n",
    "\n",
    "        # Training with batches\n",
    "        for i, (train_wavs, train_target, train_metadata) in enumerate(train_dataloader):\n",
    "            train_wavs = train_wavs.to(DEVICE)\n",
    "            train_target = train_target.to(DEVICE)\n",
    "            train_metadata = train_metadata.to(DEVICE)\n",
    "\n",
    "            # Train\n",
    "            optimizer.zero_grad()\n",
    "            if with_meta:\n",
    "                output = model(train_wavs, train_metadata)\n",
    "            else:\n",
    "                output = model(train_wavs)\n",
    "            loss = loss_fn(output, train_target)\n",
    "\n",
    "            loss.backward()\n",
    "            optimizer.step()\n",
    "\n",
    "            total_loss += loss.item()\n",
    "\n",
    "            # Calculate Score\n",
    "            train_target = train_target.cpu()\n",
    "            output_label = torch.argmax(output, dim=-1).cpu()\n",
    "            train_true = torch.cat([train_true, train_target])\n",
    "            train_pred = torch.cat([train_pred, output_label])\n",
    "\n",
    "            # Delete Var\n",
    "            del train_wavs, train_target, train_metadata, output, output_label\n",
    "            gc.collect()\n",
    "\n",
    "        train_loss_list.append(total_loss)\n",
    "        train_top1_acc = accuracy_score(train_true, train_pred)\n",
    "\n",
    "        # validation\n",
    "        valid_total_loss = 0\n",
    "        model.eval()\n",
    "        valid_true = torch.tensor([])\n",
    "        valid_pred = torch.tensor([])\n",
    "\n",
    "        for j, (valid_wavs, valid_target, valid_metadata) in enumerate(valid_dataloader):\n",
    "            valid_wavs = valid_wavs.to(DEVICE)\n",
    "            valid_target = valid_target.to(DEVICE)\n",
    "            valid_metadata = valid_metadata.to(DEVICE)\n",
    "\n",
    "            if with_meta:\n",
    "                output = model(valid_wavs, valid_metadata)\n",
    "            else:\n",
    "                output = model(valid_wavs)\n",
    "\n",
    "            loss = loss_fn(output, valid_target)\n",
    "            valid_total_loss += loss.item()\n",
    "\n",
    "            # Calculate Score\n",
    "            valid_target = valid_target.cpu()\n",
    "            output_label = torch.argmax(output, dim=-1).cpu()\n",
    "            valid_true = torch.cat([valid_true, valid_target])\n",
    "            valid_pred = torch.cat([valid_pred, output_label])\n",
    "\n",
    "            # Delete Var\n",
    "            del valid_wavs, valid_target, valid_metadata, output, output_label\n",
    "            gc.collect()\n",
    "\n",
    "        valid_loss_list.append(valid_total_loss)\n",
    "        valid_top1_acc = accuracy_score(valid_true, valid_pred)\n",
    "\n",
    "        print(f\"epoch {epoch+1}: train loss: {total_loss}, train top1 acc: {train_top1_acc} || valid loss: {valid_total_loss}, valid top1 acc: {valid_top1_acc}\")\n",
    "\n",
    "        # for early stopping\n",
    "        if valid_top1_acc <= best_acc:\n",
    "            cnt += 1\n",
    "            if cnt >= PATIENCE:\n",
    "                print(f\"Early Stopping at epoch: {epoch+1}, the best valid acc = {best_acc}\")\n",
    "        else:\n",
    "            best_acc = valid_top1_acc\n",
    "            cnt = 0\n",
    "            save_checkpoint(model, model_path)\n",
    "        \n",
    "        # Delete Var\n",
    "        del train_true, train_pred, valid_true, valid_pred\n",
    "        gc.collect()\n",
    "    \n",
    "    best_model = ShortChunkCNN_Res(with_meta=with_meta, **model_params) if model_params else ShortChunkCNN_Res(with_meta=with_meta)\n",
    "    best_model.load_state_dict(torch.load(model_path))\n",
    "\n",
    "    # Clear GPU memory\n",
    "    torch.cuda.empty_cache()\n",
    "\n",
    "    return best_model\n",
    "\n",
    "\n",
    "def test(\n",
    "        test_wavs: np.array, \n",
    "        test_log: pd.DataFrame, \n",
    "        model: ShortChunkCNN_Res,\n",
    "        with_meta: bool = False,\n",
    "        verbose: bool = True\n",
    "    ):\n",
    "\n",
    "    # Test Dataset and DataLoader\n",
    "    test = MyDataset(test_wavs, test_log)\n",
    "    test_dataloader = DataLoader(test, batch_size=BATCH_SIZE, shuffle=False)\n",
    "    loss_fn = nn.CrossEntropyLoss()\n",
    "\n",
    "    # test start\n",
    "    model.to(DEVICE)\n",
    "    model.eval()\n",
    "    test_total_loss = 0\n",
    "    test_true = torch.tensor([])\n",
    "    test_pred = torch.tensor([])\n",
    "    test_pred_p = torch.tensor([])\n",
    "    with torch.no_grad():\n",
    "        for test_wavs, test_target, test_metadata in tqdm(test_dataloader, disable=(not verbose)):\n",
    "            test_wavs = test_wavs.to(DEVICE)\n",
    "            test_target = test_target.to(DEVICE)\n",
    "            test_metadata = test_metadata.to(DEVICE)\n",
    "\n",
    "            if with_meta:\n",
    "                output = model(test_wavs, test_metadata)\n",
    "            else:\n",
    "                output = model(test_wavs)\n",
    "\n",
    "            loss = loss_fn(output, test_target)\n",
    "            test_total_loss += loss.item()\n",
    "\n",
    "            # Calculate Score\n",
    "            test_target = test_target.cpu()\n",
    "            output_label = torch.argmax(output, dim=-1).cpu()\n",
    "            output = output.cpu()\n",
    "            test_true = torch.cat([test_true, test_target])\n",
    "            test_pred = torch.cat([test_pred, output_label])\n",
    "            test_pred_p = torch.cat([test_pred_p, output])\n",
    "\n",
    "            # Delete Var\n",
    "            del test_wavs, test_target, test_metadata, output, output_label\n",
    "            gc.collect()\n",
    "\n",
    "    test_top1_acc = accuracy_score(test_true, test_pred)\n",
    "    test_top3_acc = top_k_accuracy_score(test_true, test_pred_p, k=3, labels=list(LABEL_NAMES.keys()))\n",
    "\n",
    "    print(f\"Top 1 Accuracy: {test_top1_acc:.4f}\")\n",
    "    print(f\"Top 3 Accuracy: {test_top3_acc:.4f}\")\n",
    "\n",
    "    if verbose:\n",
    "        cmx = confusion_matrix(test_true, test_pred)\n",
    "        plt.figure(figsize=(8, 4))\n",
    "        sns.heatmap(cmx, annot=True, fmt='d', cmap='Blues', xticklabels=LABEL_NAMES.values(), yticklabels=LABEL_NAMES.values())\n",
    "        plt.xlabel('Predicted Label')\n",
    "        plt.ylabel('True Label')\n",
    "        plt.title('Confusion Matrix')\n",
    "        plt.show()\n",
    "\n",
    "    return test_true, test_pred\n"
   ]
  },
  {
   "cell_type": "markdown",
   "metadata": {},
   "source": [
    "### Train Model"
   ]
  },
  {
   "cell_type": "code",
   "execution_count": 10,
   "metadata": {},
   "outputs": [
    {
     "name": "stdout",
     "output_type": "stream",
     "text": [
      "Prepare dataloader...\n",
      "Training Start!!!\n"
     ]
    },
    {
     "name": "stderr",
     "output_type": "stream",
     "text": [
      "  0%|          | 0/10 [00:00<?, ?it/s]"
     ]
    },
    {
     "name": "stdout",
     "output_type": "stream",
     "text": [
      "epoch 1: train loss: 3478.065853834152, train top1 acc: 0.23209192913795615 || valid loss: 870.4528849124908, valid top1 acc: 0.43547878214229374\n"
     ]
    },
    {
     "name": "stderr",
     "output_type": "stream",
     "text": [
      " 10%|█         | 1/10 [04:29<40:24, 269.40s/it]"
     ]
    },
    {
     "name": "stdout",
     "output_type": "stream",
     "text": [
      "epoch 2: train loss: 3075.6895678043365, train top1 acc: 0.5763265815933551 || valid loss: 773.4474556446075, valid top1 acc: 0.6094021138980912\n"
     ]
    },
    {
     "name": "stderr",
     "output_type": "stream",
     "text": [
      " 20%|██        | 2/10 [08:58<35:54, 269.35s/it]"
     ]
    },
    {
     "name": "stdout",
     "output_type": "stream",
     "text": [
      "epoch 3: train loss: 2700.073987841606, train top1 acc: 0.7915565085246788 || valid loss: 737.8463896512985, valid top1 acc: 0.708786874901404\n"
     ]
    },
    {
     "name": "stderr",
     "output_type": "stream",
     "text": [
      " 30%|███       | 3/10 [13:27<31:22, 268.88s/it]"
     ]
    },
    {
     "name": "stdout",
     "output_type": "stream",
     "text": [
      "epoch 4: train loss: 2550.0203660726547, train top1 acc: 0.8852551158482004 || valid loss: 720.1947889328003, valid top1 acc: 0.751616974286165\n"
     ]
    },
    {
     "name": "stderr",
     "output_type": "stream",
     "text": [
      " 40%|████      | 4/10 [17:55<26:52, 268.75s/it]"
     ]
    },
    {
     "name": "stdout",
     "output_type": "stream",
     "text": [
      "epoch 5: train loss: 2454.592119216919, train top1 acc: 0.9381102067156567 || valid loss: 714.3064067363739, valid top1 acc: 0.7562707051585423\n"
     ]
    },
    {
     "name": "stderr",
     "output_type": "stream",
     "text": [
      " 60%|██████    | 6/10 [26:48<17:49, 267.43s/it]"
     ]
    },
    {
     "name": "stdout",
     "output_type": "stream",
     "text": [
      "epoch 6: train loss: 2414.317271590233, train top1 acc: 0.9557216312425838 || valid loss: 723.4060825109482, valid top1 acc: 0.7298469790187727\n",
      "epoch 7: train loss: 2396.90429520607, train top1 acc: 0.9637779211857527 || valid loss: 705.3192180395126, valid top1 acc: 0.7689698690645212\n"
     ]
    },
    {
     "name": "stderr",
     "output_type": "stream",
     "text": [
      " 70%|███████   | 7/10 [31:18<13:24, 268.10s/it]"
     ]
    },
    {
     "name": "stdout",
     "output_type": "stream",
     "text": [
      "epoch 8: train loss: 2381.8221868276596, train top1 acc: 0.970335366488332 || valid loss: 699.9088374376297, valid top1 acc: 0.7844297207761477\n"
     ]
    },
    {
     "name": "stderr",
     "output_type": "stream",
     "text": [
      " 90%|█████████ | 9/10 [40:15<04:28, 268.26s/it]"
     ]
    },
    {
     "name": "stdout",
     "output_type": "stream",
     "text": [
      "epoch 9: train loss: 2373.4270284175873, train top1 acc: 0.9750817078501988 || valid loss: 719.1537271738052, valid top1 acc: 0.741994005363622\n"
     ]
    },
    {
     "name": "stderr",
     "output_type": "stream",
     "text": [
      "100%|██████████| 10/10 [44:41<00:00, 268.16s/it]"
     ]
    },
    {
     "name": "stdout",
     "output_type": "stream",
     "text": [
      "epoch 10: train loss: 2365.994400501251, train top1 acc: 0.9779128588379791 || valid loss: 707.1910732984543, valid top1 acc: 0.76873323868118\n"
     ]
    },
    {
     "name": "stderr",
     "output_type": "stream",
     "text": [
      "\n"
     ]
    }
   ],
   "source": [
    "# model 1: without metadata / model 2: with metadata\n",
    "# model_path = \"DL_ShortChunkCNN_Res_1.pt\"\n",
    "model_path = \"DL_ShortChunkCNN_Res_2.pt\"\n",
    "\n",
    "# TODO: un-comment this line for training\n",
    "# model1 = train(wavs, df, val_wavs, val_df, with_meta=False, model_path=model_path)\n",
    "model2 = train(wavs, df, val_wavs, val_df, with_meta=True, model_path=model_path)\n"
   ]
  },
  {
   "cell_type": "code",
   "execution_count": 12,
   "metadata": {},
   "outputs": [
    {
     "name": "stdout",
     "output_type": "stream",
     "text": [
      "|===========================================================================|\n",
      "|                  PyTorch CUDA memory summary, device ID 0                 |\n",
      "|---------------------------------------------------------------------------|\n",
      "|            CUDA OOMs: 0            |        cudaMalloc retries: 0         |\n",
      "|===========================================================================|\n",
      "|        Metric         | Cur Usage  | Peak Usage | Tot Alloc  | Tot Freed  |\n",
      "|---------------------------------------------------------------------------|\n",
      "| Allocated memory      | 352292 KiB |   1167 MiB |  53900 GiB |  53900 GiB |\n",
      "|       from large pool | 335728 KiB |   1150 MiB |  53553 GiB |  53553 GiB |\n",
      "|       from small pool |  16564 KiB |     18 MiB |    347 GiB |    347 GiB |\n",
      "|---------------------------------------------------------------------------|\n",
      "| Active memory         | 352292 KiB |   1167 MiB |  53900 GiB |  53900 GiB |\n",
      "|       from large pool | 335728 KiB |   1150 MiB |  53553 GiB |  53553 GiB |\n",
      "|       from small pool |  16564 KiB |     18 MiB |    347 GiB |    347 GiB |\n",
      "|---------------------------------------------------------------------------|\n",
      "| Requested memory      | 340820 KiB |   1154 MiB |  53621 GiB |  53620 GiB |\n",
      "|       from large pool | 324290 KiB |   1137 MiB |  53274 GiB |  53273 GiB |\n",
      "|       from small pool |  16530 KiB |     18 MiB |    347 GiB |    346 GiB |\n",
      "|---------------------------------------------------------------------------|\n",
      "| GPU reserved memory   | 630784 KiB |   1632 MiB |   1632 MiB |   1016 MiB |\n",
      "|       from large pool | 610304 KiB |   1612 MiB |   1612 MiB |   1016 MiB |\n",
      "|       from small pool |  20480 KiB |     20 MiB |     20 MiB |      0 MiB |\n",
      "|---------------------------------------------------------------------------|\n",
      "| Non-releasable memory | 278491 KiB | 737769 KiB |  43072 GiB |  43072 GiB |\n",
      "|       from large pool | 274576 KiB | 730870 KiB |  42653 GiB |  42652 GiB |\n",
      "|       from small pool |   3915 KiB |  11573 KiB |    419 GiB |    419 GiB |\n",
      "|---------------------------------------------------------------------------|\n",
      "| Allocations           |     651    |     651    |    8179 K  |    8178 K  |\n",
      "|       from large pool |      97    |     113    |    2493 K  |    2493 K  |\n",
      "|       from small pool |     554    |     554    |    5685 K  |    5685 K  |\n",
      "|---------------------------------------------------------------------------|\n",
      "| Active allocs         |     651    |     651    |    8179 K  |    8178 K  |\n",
      "|       from large pool |      97    |     113    |    2493 K  |    2493 K  |\n",
      "|       from small pool |     554    |     554    |    5685 K  |    5685 K  |\n",
      "|---------------------------------------------------------------------------|\n",
      "| GPU reserved segments |      20    |      25    |      25    |       5    |\n",
      "|       from large pool |      10    |      15    |      15    |       5    |\n",
      "|       from small pool |      10    |      10    |      10    |       0    |\n",
      "|---------------------------------------------------------------------------|\n",
      "| Non-releasable allocs |      17    |      44    |    2421 K  |    2421 K  |\n",
      "|       from large pool |       5    |      20    |     983 K  |     983 K  |\n",
      "|       from small pool |      12    |      34    |    1438 K  |    1438 K  |\n",
      "|---------------------------------------------------------------------------|\n",
      "| Oversize allocations  |       0    |       0    |       0    |       0    |\n",
      "|---------------------------------------------------------------------------|\n",
      "| Oversize GPU segments |       0    |       0    |       0    |       0    |\n",
      "|===========================================================================|\n",
      "\n"
     ]
    }
   ],
   "source": [
    "torch.cuda.empty_cache()\n",
    "print(torch.cuda.memory_summary())"
   ]
  },
  {
   "cell_type": "code",
   "execution_count": 11,
   "metadata": {},
   "outputs": [
    {
     "name": "stderr",
     "output_type": "stream",
     "text": [
      "100%|██████████| 397/397 [00:49<00:00,  8.09it/s]\n"
     ]
    },
    {
     "name": "stdout",
     "output_type": "stream",
     "text": [
      "Top 1 Accuracy: 0.7844\n",
      "Top 3 Accuracy: 0.9243\n"
     ]
    },
    {
     "data": {
      "image/png": "[encoded data removed]",
      "text/plain": [
       "<Figure size 800x400 with 2 Axes>"
      ]
     },
     "metadata": {},
     "output_type": "display_data"
    },
    {
     "data": {
      "text/plain": [
       "(tensor([ 4.,  0.,  0.,  ..., 10.,  0.,  4.]),\n",
       " tensor([ 4.,  0.,  0.,  ..., 10.,  0.,  4.]))"
      ]
     },
     "execution_count": 11,
     "metadata": {},
     "output_type": "execute_result"
    }
   ],
   "source": [
    "# model_path = \"DL_ShortChunkCNN_Res_1.pt\"\n",
    "# model1 = ShortChunkCNN_Res(with_meta=False)\n",
    "# model1.load_state_dict(torch.load(model_path))\n",
    "# test(val_wavs, val_df, model1, with_meta=False)\n",
    "\n",
    "model_path = \"DL_ShortChunkCNN_Res_2.pt\"\n",
    "model2 = ShortChunkCNN_Res(with_meta=True)\n",
    "model2.load_state_dict(torch.load(model_path))\n",
    "test(val_wavs, val_df, model2, with_meta=True)"
   ]
  },
  {
   "cell_type": "code",
   "execution_count": null,
   "metadata": {},
   "outputs": [],
   "source": []
  }
 ],
 "metadata": {
  "kernelspec": {
   "display_name": "bai_env310",
   "language": "python",
   "name": "python3"
  },
  "language_info": {
   "codemirror_mode": {
    "name": "ipython",
    "version": 3
   },
   "file_extension": ".py",
   "mimetype": "text/x-python",
   "name": "python",
   "nbconvert_exporter": "python",
   "pygments_lexer": "ipython3",
   "version": "3.10.14"
  }
 },
 "nbformat": 4,
 "nbformat_minor": 2
}
