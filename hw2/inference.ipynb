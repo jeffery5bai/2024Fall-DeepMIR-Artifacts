{
 "cells": [
  {
   "cell_type": "code",
   "execution_count": 1,
   "metadata": {},
   "outputs": [],
   "source": [
    "import sys\n",
    "import numpy as np\n",
    "import torch\n",
    "import librosa\n",
    "\n",
    "sys.path.append(\"open-unmix-pytorch\")\n",
    "from openunmix.predict import separate\n",
    "\n",
    "# TODO: change this directory\n",
    "AUDIO_WAV_PATH = \"./musdb18hq/train/A Classic Education - NightOwl/mixture.wav\"\n",
    "\n",
    "sample_rate = 44100\n",
    "model_path = \"./open-unmix-pytorch/open-unmix\"\n",
    "target = \"vocals\"\n",
    "residual = True\n",
    "device = torch.device(\"cuda\" if torch.cuda.is_available() else \"cpu\")\n"
   ]
  },
  {
   "cell_type": "code",
   "execution_count": 2,
   "metadata": {},
   "outputs": [],
   "source": [
    "a, _ = librosa.load(AUDIO_WAV_PATH, sr=sample_rate)\n",
    "if len(a.shape) == 1:\n",
    "    a = np.expand_dims(a, axis=0)\n",
    "else:\n",
    "    a = np.transpose(a, (1, 0))  # to be shape (channels, length)\n",
    "audio = torch.as_tensor(a, dtype=torch.float32, device=device)\n",
    "\n",
    "estimate = separate(\n",
    "    audio,\n",
    "    rate=sample_rate,\n",
    "    model_str_or_path=model_path,\n",
    "    targets=target,\n",
    "    residual=residual,\n",
    "    device=device,\n",
    ")"
   ]
  },
  {
   "cell_type": "code",
   "execution_count": 18,
   "metadata": {},
   "outputs": [
    {
     "name": "stdout",
     "output_type": "stream",
     "text": [
      "{'vocals': tensor([[[-2.3042e-04, -2.6121e-04, -2.9660e-04,  ...,  6.2684e-05,\n",
      "           6.6183e-05,  6.8869e-05],\n",
      "         [-1.7552e-04, -2.0480e-04, -2.3764e-04,  ...,  5.8982e-05,\n",
      "           6.2443e-05,  6.5135e-05]]], device='cuda:0'), 'residual': tensor([[[-0.0016, -0.0017, -0.0018,  ...,  0.0006,  0.0005,  0.0005],\n",
      "         [-0.0016, -0.0017, -0.0017,  ...,  0.0006,  0.0005,  0.0005]]],\n",
      "       device='cuda:0')}\n",
      "torch.Size([1, 2, 7560512])\n"
     ]
    }
   ],
   "source": [
    "print(estimate)\n",
    "print(estimate[\"vocals\"].size())"
   ]
  },
  {
   "cell_type": "code",
   "execution_count": null,
   "metadata": {},
   "outputs": [],
   "source": []
  }
 ],
 "metadata": {
  "kernelspec": {
   "display_name": "bai_env310",
   "language": "python",
   "name": "python3"
  },
  "language_info": {
   "codemirror_mode": {
    "name": "ipython",
    "version": 3
   },
   "file_extension": ".py",
   "mimetype": "text/x-python",
   "name": "python",
   "nbconvert_exporter": "python",
   "pygments_lexer": "ipython3",
   "version": "3.10.13"
  }
 },
 "nbformat": 4,
 "nbformat_minor": 2
}
