{
 "cells": [
  {
   "cell_type": "code",
   "execution_count": 24,
   "metadata": {},
   "outputs": [],
   "source": [
    "import os\n",
    "import sys\n",
    "import numpy as np\n",
    "import torch\n",
    "from torch.utils.data import DataLoader\n",
    "from tqdm import tqdm\n",
    "\n",
    "sys.path.append(\"open-unmix-pytorch\")\n",
    "from openunmix.transforms import make_filterbanks\n",
    "from openunmix.model import ComplexNorm\n",
    "from openunmix.data import MUSDBDataset, aug_from_str\n",
    "\n",
    "# TODO: change this directory\n",
    "TRAIN_WAV_DIR = \"./musdb18hq/train\"\n",
    "TEST_EAV_DIR = \"./musdb18hq/test\"\n"
   ]
  },
  {
   "cell_type": "code",
   "execution_count": 21,
   "metadata": {},
   "outputs": [
    {
     "name": "stdout",
     "output_type": "stream",
     "text": [
      "{'vocals': 'vocals.wav', 'drums': 'drums.wav', 'bass': 'bass.wav', 'other': 'other.wav'}\n",
      "A Classic Education - NightOwl\n"
     ]
    },
    {
     "data": {
      "text/plain": [
       "array([[ 0.00024414,  0.00036621],\n",
       "       [ 0.00036621,  0.00048828],\n",
       "       [ 0.00036621,  0.00048828],\n",
       "       ...,\n",
       "       [ 0.        ,  0.        ],\n",
       "       [ 0.        ,  0.        ],\n",
       "       [ 0.        , -0.00015259]])"
      ]
     },
     "execution_count": 21,
     "metadata": {},
     "output_type": "execute_result"
    }
   ],
   "source": [
    "import musdb\n",
    "dataset_kwargs = {\n",
    "    \"root\": None,\n",
    "    \"is_wav\": True,\n",
    "    \"subsets\": \"train\",\n",
    "    \"target\": \"vocals\",\n",
    "    \"download\": True,\n",
    "    \"seed\": 42,\n",
    "}\n",
    "\n",
    "mus = musdb.DB(\n",
    "    root=\"./musdb18hq/\",\n",
    "    is_wav=True,\n",
    "    split=\"train\",\n",
    "    subsets=\"train\",\n",
    "    download=False\n",
    ")\n",
    "print(mus.setup[\"sources\"])\n",
    "\n",
    "samples_per_track = 64\n",
    "index = 0\n",
    "split = \"train\"\n",
    "seq_duration = 6.0\n",
    "# select track\n",
    "track = mus.tracks[index // samples_per_track]\n",
    "print(track)\n",
    "# audio = torch.as_tensor(track.sources[\"vocals.wav\"].audio.T, dtype=torch.float32)\n",
    "track.sources[\"vocals\"].audio\n",
    "\n"
   ]
  },
  {
   "cell_type": "markdown",
   "metadata": {},
   "source": [
    "### Wav to Numpy"
   ]
  },
  {
   "cell_type": "code",
   "execution_count": 5,
   "metadata": {},
   "outputs": [],
   "source": [
    "device = torch.device(\"cuda\" if torch.cuda.is_available() else \"cpu\")\n",
    "\n",
    "stft, _ = make_filterbanks(\n",
    "    n_fft=4096, n_hop=1024, sample_rate=44100\n",
    ")\n",
    "encoder = torch.nn.Sequential(stft, ComplexNorm(mono=False)).to(device)\n"
   ]
  },
  {
   "cell_type": "code",
   "execution_count": 6,
   "metadata": {},
   "outputs": [],
   "source": [
    "source_augmentations = [\"gain\", \"channelswap\"]\n",
    "samples_per_track = 64\n",
    "seq_dur = 6.0\n",
    "target = \"bass\"\n",
    "\n",
    "dataset_kwargs = {\n",
    "    \"root\": \"./musdb18hq/\",\n",
    "    \"is_wav\": True,\n",
    "    \"subsets\": \"train\",\n",
    "    \"target\": target,\n",
    "    \"download\": False,\n",
    "    \"seed\": 42,\n",
    "}\n",
    "\n",
    "source_augmentations = aug_from_str(source_augmentations)\n",
    "\n",
    "train_dataset = MUSDBDataset(\n",
    "    split=\"train\",\n",
    "    samples_per_track=samples_per_track,\n",
    "    seq_duration=seq_dur,\n",
    "    source_augmentations=source_augmentations,\n",
    "    random_track_mix=True,\n",
    "    **dataset_kwargs,\n",
    ")\n",
    "\n",
    "valid_dataset = MUSDBDataset(split=\"valid\", samples_per_track=1, seq_duration=None, **dataset_kwargs)\n"
   ]
  },
  {
   "cell_type": "code",
   "execution_count": 7,
   "metadata": {},
   "outputs": [],
   "source": [
    "nb_workers = 4\n",
    "dataloader_kwargs = {\"num_workers\": nb_workers, \"pin_memory\": True} if torch.cuda.is_available() else {}\n",
    "\n",
    "train_sampler = DataLoader(train_dataset, batch_size=1, **dataloader_kwargs)\n",
    "valid_sampler = DataLoader(valid_dataset, batch_size=1, **dataloader_kwargs)\n"
   ]
  },
  {
   "cell_type": "code",
   "execution_count": 8,
   "metadata": {},
   "outputs": [],
   "source": [
    "def convert_wav_to_numpy(\n",
    "        split: str, \n",
    "        dataloader: DataLoader,\n",
    "        output_dir: str = \"musdb18hq_np\",\n",
    "        verbose: bool = True,\n",
    "    ):\n",
    "\n",
    "    verbose = True\n",
    "    if split == \"train\":\n",
    "        OUTPUT_DIR = f\"./{output_dir}/train\"\n",
    "    else: # valid\n",
    "        OUTPUT_DIR = f\"./{output_dir}/valid\"\n",
    "    os.makedirs(OUTPUT_DIR, exist_ok=True)\n",
    "\n",
    "    pbar = tqdm(dataloader, disable=(not verbose))\n",
    "    for t, (x, y) in enumerate(pbar):\n",
    "        x, y = x.to(device), y.to(device)\n",
    "        X = encoder(x)\n",
    "        X = X.cpu().numpy()\n",
    "        X = X.squeeze()\n",
    "        Y = encoder(y)\n",
    "        Y = Y.cpu().numpy()\n",
    "        Y = Y.squeeze()\n",
    "\n",
    "        # save to numpy array (nb_channels, frequency, time_domain)\n",
    "        track_dir = os.path.join(OUTPUT_DIR, str(t))\n",
    "        os.makedirs(track_dir, exist_ok=True)\n",
    "        mixture_path = os.path.join(track_dir, \"mixture.npy\")\n",
    "        target_path = os.path.join(track_dir, f\"{target}.npy\")\n",
    "        np.save(mixture_path, X)\n",
    "        np.save(target_path, Y)\n",
    "    \n",
    "    print(f\"{split} data convertion completed! Total {dataloader.__len__()} tracks are saved\")\n"
   ]
  },
  {
   "cell_type": "code",
   "execution_count": 9,
   "metadata": {},
   "outputs": [
    {
     "name": "stderr",
     "output_type": "stream",
     "text": [
      "100%|██████████| 5504/5504 [29:38<00:00,  3.10it/s] \n"
     ]
    },
    {
     "name": "stdout",
     "output_type": "stream",
     "text": [
      "train data convertion completed! Total 5504 tracks are saved\n"
     ]
    },
    {
     "name": "stderr",
     "output_type": "stream",
     "text": [
      "100%|██████████| 14/14 [02:49<00:00, 12.09s/it]"
     ]
    },
    {
     "name": "stdout",
     "output_type": "stream",
     "text": [
      "valid data convertion completed! Total 14 tracks are saved\n"
     ]
    },
    {
     "name": "stderr",
     "output_type": "stream",
     "text": [
      "\n"
     ]
    }
   ],
   "source": [
    "convert_wav_to_numpy(\"train\", train_sampler, \"musdb18hq_np\")\n",
    "convert_wav_to_numpy(\"valid\", valid_sampler, \"musdb18hq_np\")"
   ]
  },
  {
   "cell_type": "code",
   "execution_count": 10,
   "metadata": {},
   "outputs": [
    {
     "name": "stdout",
     "output_type": "stream",
     "text": [
      "86\n",
      "14\n"
     ]
    }
   ],
   "source": [
    "print(len(train_dataset.mus.tracks))\n",
    "print(len(valid_dataset.mus.tracks))"
   ]
  },
  {
   "cell_type": "code",
   "execution_count": null,
   "metadata": {},
   "outputs": [],
   "source": []
  }
 ],
 "metadata": {
  "kernelspec": {
   "display_name": "bai_env310",
   "language": "python",
   "name": "python3"
  },
  "language_info": {
   "codemirror_mode": {
    "name": "ipython",
    "version": 3
   },
   "file_extension": ".py",
   "mimetype": "text/x-python",
   "name": "python",
   "nbconvert_exporter": "python",
   "pygments_lexer": "ipython3",
   "version": "3.10.13"
  }
 },
 "nbformat": 4,
 "nbformat_minor": 2
}
